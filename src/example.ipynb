{
 "cells": [
  {
   "metadata": {
    "ExecuteTime": {
     "end_time": "2025-04-08T21:25:37.306650Z",
     "start_time": "2025-04-08T21:25:37.270419Z"
    }
   },
   "cell_type": "code",
   "source": [
    "\"\"\"\n",
    "Simple example script fitting a model for synthetic data\n",
    "\"\"\"\n",
    "from __future__ import print_function\n",
    "import jax.numpy as jnp\n",
    "from jax import jit, random\n",
    "import time\n",
    "import matplotlib.pyplot as plt\n",
    "import seaborn as sns\n",
    "\n",
    "from codebase.vi.BBVI import DiagMvnBBVI\n",
    "from codebase.gsmooth.opt import FilteredOptimization\n",
    "from codebase.gsmooth.smoothers import AdamFilter\n",
    "import CV as cvg\n",
    "import models\n",
    "\n",
    "%load_ext autoreload\n",
    "%autoreload 2"
   ],
   "id": "e59b74e672779ca6",
   "outputs": [
    {
     "name": "stdout",
     "output_type": "stream",
     "text": [
      "The autoreload extension is already loaded. To reload it, use:\n",
      "  %reload_ext autoreload\n"
     ]
    }
   ],
   "execution_count": 3
  },
  {
   "metadata": {
    "ExecuteTime": {
     "end_time": "2025-04-08T21:25:42.268296Z",
     "start_time": "2025-04-08T21:25:40.945248Z"
    }
   },
   "cell_type": "code",
   "source": [
    "#########################################\n",
    "# construct model function + vb object  #\n",
    "#########################################\n",
    "# lnpdf, D = make_model()\n",
    "lnpdf, D, name = models.set_lnpdf(\"frisk\")\n",
    "key = random.PRNGKey(0)\n",
    "th0 = random.normal(key, (D,))\n",
    "print(lnpdf(th0))  # example use\n",
    "\n",
    "# create bbvi object --- this just keeps references to lnpdf,\n",
    "# grad(lnpdf), hvp(lnpdf), etc\n",
    "vbobj = DiagMvnBBVI(lnpdf, D, lnpdf_is_vectorized=False)\n",
    "\n",
    "# initialize params\n",
    "key = random.PRNGKey(1)\n",
    "lam0 = random.normal(key, (vbobj.num_variational_params,)) * 0.01 - 1\n",
    "lam0 = lam0.at[D:].set(-3.)"
   ],
   "id": "b6d967dac9161a7d",
   "outputs": [
    {
     "ename": "TypeError",
     "evalue": "true_fun output and false_fun output must have identical types, got\nDIFFERENT ShapedArray(float32[]) vs. ShapedArray(float32[1]).",
     "output_type": "error",
     "traceback": [
      "\u001B[0;31m---------------------------------------------------------------------------\u001B[0m",
      "\u001B[0;31mTypeError\u001B[0m                                 Traceback (most recent call last)",
      "Cell \u001B[0;32mIn[4], line 8\u001B[0m\n\u001B[1;32m      6\u001B[0m key \u001B[38;5;241m=\u001B[39m random\u001B[38;5;241m.\u001B[39mPRNGKey(\u001B[38;5;241m0\u001B[39m)\n\u001B[1;32m      7\u001B[0m th0 \u001B[38;5;241m=\u001B[39m random\u001B[38;5;241m.\u001B[39mnormal(key, (D,))\n\u001B[0;32m----> 8\u001B[0m \u001B[38;5;28mprint\u001B[39m(lnpdf(th0))  \u001B[38;5;66;03m# example use\u001B[39;00m\n\u001B[1;32m     10\u001B[0m \u001B[38;5;66;03m# create bbvi object --- this just keeps references to lnpdf,\u001B[39;00m\n\u001B[1;32m     11\u001B[0m \u001B[38;5;66;03m# grad(lnpdf), hvp(lnpdf), etc\u001B[39;00m\n\u001B[1;32m     12\u001B[0m vbobj \u001B[38;5;241m=\u001B[39m DiagMvnBBVI(lnpdf, D, lnpdf_is_vectorized\u001B[38;5;241m=\u001B[39m\u001B[38;5;28;01mFalse\u001B[39;00m)\n",
      "File \u001B[0;32m~/Library/CloudStorage/Box-Box/Georgia Tech/Spring 2025/CS 8803/Project/VI/src/codebase/models/frisk.py:117\u001B[0m, in \u001B[0;36mmake_model_funs.<locals>.lnpdf\u001B[0;34m(th)\u001B[0m\n\u001B[1;32m    114\u001B[0m lnlam \u001B[38;5;241m=\u001B[39m (mu \u001B[38;5;241m+\u001B[39m lnep[\u001B[38;5;28;01mNone\u001B[39;00m, :]) \u001B[38;5;241m+\u001B[39m \\\n\u001B[1;32m    115\u001B[0m         jnp\u001B[38;5;241m.\u001B[39mdot(alpha, Xeth\u001B[38;5;241m.\u001B[39mT) \u001B[38;5;241m+\u001B[39m jnp\u001B[38;5;241m.\u001B[39mdot(beta, Xprecinct\u001B[38;5;241m.\u001B[39mT)\n\u001B[1;32m    116\u001B[0m loglike \u001B[38;5;241m=\u001B[39m jnp\u001B[38;5;241m.\u001B[39msum(lnpoiss(yep, lnlam), axis\u001B[38;5;241m=\u001B[39m\u001B[38;5;241m1\u001B[39m)\n\u001B[0;32m--> 117\u001B[0m \u001B[38;5;28;01mreturn\u001B[39;00m jax\u001B[38;5;241m.\u001B[39mlax\u001B[38;5;241m.\u001B[39mcond(\n\u001B[1;32m    118\u001B[0m     th\u001B[38;5;241m.\u001B[39mshape[\u001B[38;5;241m0\u001B[39m] \u001B[38;5;241m==\u001B[39m \u001B[38;5;241m1\u001B[39m,\n\u001B[1;32m    119\u001B[0m     \u001B[38;5;28;01mlambda\u001B[39;00m x: x[\u001B[38;5;241m0\u001B[39m],\n\u001B[1;32m    120\u001B[0m     \u001B[38;5;28;01mlambda\u001B[39;00m x: x,\n\u001B[1;32m    121\u001B[0m     loglike \u001B[38;5;241m+\u001B[39m logprior\n\u001B[1;32m    122\u001B[0m )\n",
      "    \u001B[0;31m[... skipping hidden 3 frame]\u001B[0m\n",
      "File \u001B[0;32m~/anaconda3/envs/vi/lib/python3.13/site-packages/jax/_src/lax/control_flow/common.py:222\u001B[0m, in \u001B[0;36m_check_tree_and_avals\u001B[0;34m(what1, tree1, avals1, what2, tree2, avals2)\u001B[0m\n\u001B[1;32m    219\u001B[0m \u001B[38;5;28;01mif\u001B[39;00m \u001B[38;5;129;01mnot\u001B[39;00m \u001B[38;5;28mall\u001B[39m(\u001B[38;5;28mmap\u001B[39m(core\u001B[38;5;241m.\u001B[39mtypematch, avals1, avals2)):\n\u001B[1;32m    220\u001B[0m   diff \u001B[38;5;241m=\u001B[39m tree_map(_show_diff, tree_unflatten(tree1, avals1),\n\u001B[1;32m    221\u001B[0m                   tree_unflatten(tree2, avals2))\n\u001B[0;32m--> 222\u001B[0m   \u001B[38;5;28;01mraise\u001B[39;00m \u001B[38;5;167;01mTypeError\u001B[39;00m(\u001B[38;5;124mf\u001B[39m\u001B[38;5;124m\"\u001B[39m\u001B[38;5;132;01m{\u001B[39;00mwhat1\u001B[38;5;132;01m}\u001B[39;00m\u001B[38;5;124m and \u001B[39m\u001B[38;5;132;01m{\u001B[39;00mwhat2\u001B[38;5;132;01m}\u001B[39;00m\u001B[38;5;124m must have identical types, got\u001B[39m\u001B[38;5;130;01m\\n\u001B[39;00m\u001B[38;5;132;01m{\u001B[39;00mdiff\u001B[38;5;132;01m}\u001B[39;00m\u001B[38;5;124m.\u001B[39m\u001B[38;5;124m\"\u001B[39m)\n",
      "\u001B[0;31mTypeError\u001B[0m: true_fun output and false_fun output must have identical types, got\nDIFFERENT ShapedArray(float32[]) vs. ShapedArray(float32[1])."
     ]
    }
   ],
   "execution_count": 4
  }
 ],
 "metadata": {
  "kernelspec": {
   "name": "python3",
   "language": "python",
   "display_name": "Python 3 (ipykernel)"
  }
 },
 "nbformat": 4,
 "nbformat_minor": 5
}
