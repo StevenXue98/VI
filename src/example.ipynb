{
 "cells": [
  {
   "metadata": {
    "ExecuteTime": {
     "end_time": "2025-04-05T23:41:27.973292Z",
     "start_time": "2025-04-05T23:41:26.475755Z"
    }
   },
   "cell_type": "code",
   "source": [
    "\"\"\"\n",
    "Simple example script fitting a model for synthetic data\n",
    "\"\"\"\n",
    "from __future__ import print_function\n",
    "import jax.numpy as jnp\n",
    "from jax import jit, random\n",
    "import time\n",
    "import matplotlib.pyplot as plt\n",
    "import seaborn as sns\n",
    "\n",
    "from codebase.vi.BBVI import DiagMvnBBVI\n",
    "from codebase.gsmooth.opt import FilteredOptimization\n",
    "from codebase.gsmooth.smoothers import AdamFilter\n",
    "import CV as cvg\n",
    "import models\n",
    "\n",
    "%load_ext autoreload\n",
    "%autoreload 2"
   ],
   "id": "e59b74e672779ca6",
   "outputs": [
    {
     "name": "stderr",
     "output_type": "stream",
     "text": [
      "/home/stevenxue/VI/src/codebase/models/frisk.py:28: FutureWarning: The 'delim_whitespace' keyword in pd.read_csv is deprecated and will be removed in a future version. Use ``sep='\\s+'`` instead\n",
      "  df = pd.read_csv(os.path.join(data_dir, 'data/frisk/frisk_with_noise.dat'),\n",
      "/home/stevenxue/VI/src/codebase/models/frisk.py:33: FutureWarning: The provided callable <built-in function sum> is currently using np.sum. In a future version of pandas, the provided callable will be used directly. To keep current behavior pass the string np.sum instead.\n",
      "  popdf = df[['pop', 'precinct', 'eth']].groupby(['precinct', 'eth'])['pop'].apply(sum)\n"
     ]
    }
   ],
   "execution_count": 1
  },
  {
   "metadata": {
    "ExecuteTime": {
     "end_time": "2025-04-05T23:41:47.816667Z",
     "start_time": "2025-04-05T23:41:45.555778Z"
    }
   },
   "cell_type": "code",
   "source": [
    "#########################################\n",
    "# construct model function + vb object  #\n",
    "#########################################\n",
    "# lnpdf, D = make_model()\n",
    "lnpdf, D, name = models.set_lnpdf(\"frisk\")\n",
    "key = random.PRNGKey(0)\n",
    "th0 = random.normal(key, (D,))\n",
    "print(lnpdf(th0))  # example use\n",
    "\n",
    "# create bbvi object --- this just keeps references to lnpdf,\n",
    "# grad(lnpdf), hvp(lnpdf), etc\n",
    "vbobj = DiagMvnBBVI(lnpdf, D, lnpdf_is_vectorized=False)\n",
    "\n",
    "# initialize params\n",
    "key = random.PRNGKey(1)\n",
    "lam0 = random.normal(key, (vbobj.num_variational_params,)) * 0.01 - 1\n",
    "lam0 = lam0.at[D:].set(-3.)"
   ],
   "id": "b6d967dac9161a7d",
   "outputs": [
    {
     "ename": "TypeError",
     "evalue": "true_fun output and false_fun output must have identical types, got\nDIFFERENT ShapedArray(float32[]) vs. ShapedArray(float32[1]).",
     "output_type": "error",
     "traceback": [
      "\u001B[31m---------------------------------------------------------------------------\u001B[39m",
      "\u001B[31mTypeError\u001B[39m                                 Traceback (most recent call last)",
      "\u001B[36mCell\u001B[39m\u001B[36m \u001B[39m\u001B[32mIn[2]\u001B[39m\u001B[32m, line 8\u001B[39m\n\u001B[32m      6\u001B[39m key = random.PRNGKey(\u001B[32m0\u001B[39m)\n\u001B[32m      7\u001B[39m th0 = random.normal(key, (D,))\n\u001B[32m----> \u001B[39m\u001B[32m8\u001B[39m \u001B[38;5;28mprint\u001B[39m(\u001B[43mlnpdf\u001B[49m\u001B[43m(\u001B[49m\u001B[43mth0\u001B[49m\u001B[43m)\u001B[49m)  \u001B[38;5;66;03m# example use\u001B[39;00m\n\u001B[32m     10\u001B[39m \u001B[38;5;66;03m# create bbvi object --- this just keeps references to lnpdf,\u001B[39;00m\n\u001B[32m     11\u001B[39m \u001B[38;5;66;03m# grad(lnpdf), hvp(lnpdf), etc\u001B[39;00m\n\u001B[32m     12\u001B[39m vbobj = DiagMvnBBVI(lnpdf, D, lnpdf_is_vectorized=\u001B[38;5;28;01mFalse\u001B[39;00m)\n",
      "\u001B[36mFile \u001B[39m\u001B[32m~/VI/src/codebase/models/frisk.py:117\u001B[39m, in \u001B[36mmake_model_funs.<locals>.lnpdf\u001B[39m\u001B[34m(th)\u001B[39m\n\u001B[32m    114\u001B[39m lnlam = (mu + lnep[\u001B[38;5;28;01mNone\u001B[39;00m, :]) + \\\n\u001B[32m    115\u001B[39m         jnp.dot(alpha, Xeth.T) + jnp.dot(beta, Xprecinct.T)\n\u001B[32m    116\u001B[39m loglike = jnp.sum(lnpoiss(yep, lnlam), axis=\u001B[32m1\u001B[39m)\n\u001B[32m--> \u001B[39m\u001B[32m117\u001B[39m \u001B[38;5;28;01mreturn\u001B[39;00m \u001B[43mjax\u001B[49m\u001B[43m.\u001B[49m\u001B[43mlax\u001B[49m\u001B[43m.\u001B[49m\u001B[43mcond\u001B[49m\u001B[43m(\u001B[49m\n\u001B[32m    118\u001B[39m \u001B[43m    \u001B[49m\u001B[43mth\u001B[49m\u001B[43m.\u001B[49m\u001B[43mshape\u001B[49m\u001B[43m[\u001B[49m\u001B[32;43m0\u001B[39;49m\u001B[43m]\u001B[49m\u001B[43m \u001B[49m\u001B[43m==\u001B[49m\u001B[43m \u001B[49m\u001B[32;43m1\u001B[39;49m\u001B[43m,\u001B[49m\n\u001B[32m    119\u001B[39m \u001B[43m    \u001B[49m\u001B[38;5;28;43;01mlambda\u001B[39;49;00m\u001B[43m \u001B[49m\u001B[43mx\u001B[49m\u001B[43m:\u001B[49m\u001B[43m \u001B[49m\u001B[43mx\u001B[49m\u001B[43m[\u001B[49m\u001B[32;43m0\u001B[39;49m\u001B[43m]\u001B[49m\u001B[43m,\u001B[49m\n\u001B[32m    120\u001B[39m \u001B[43m    \u001B[49m\u001B[38;5;28;43;01mlambda\u001B[39;49;00m\u001B[43m \u001B[49m\u001B[43mx\u001B[49m\u001B[43m:\u001B[49m\u001B[43m \u001B[49m\u001B[43mx\u001B[49m\u001B[43m,\u001B[49m\n\u001B[32m    121\u001B[39m \u001B[43m    \u001B[49m\u001B[43mloglike\u001B[49m\u001B[43m \u001B[49m\u001B[43m+\u001B[49m\u001B[43m \u001B[49m\u001B[43mlogprior\u001B[49m\n\u001B[32m    122\u001B[39m \u001B[43m\u001B[49m\u001B[43m)\u001B[49m\n",
      "    \u001B[31m[... skipping hidden 3 frame]\u001B[39m\n",
      "\u001B[36mFile \u001B[39m\u001B[32m~/anaconda3/envs/vi/lib/python3.13/site-packages/jax/_src/lax/control_flow/common.py:222\u001B[39m, in \u001B[36m_check_tree_and_avals\u001B[39m\u001B[34m(what1, tree1, avals1, what2, tree2, avals2)\u001B[39m\n\u001B[32m    219\u001B[39m \u001B[38;5;28;01mif\u001B[39;00m \u001B[38;5;129;01mnot\u001B[39;00m \u001B[38;5;28mall\u001B[39m(\u001B[38;5;28mmap\u001B[39m(core.typematch, avals1, avals2)):\n\u001B[32m    220\u001B[39m   diff = tree_map(_show_diff, tree_unflatten(tree1, avals1),\n\u001B[32m    221\u001B[39m                   tree_unflatten(tree2, avals2))\n\u001B[32m--> \u001B[39m\u001B[32m222\u001B[39m   \u001B[38;5;28;01mraise\u001B[39;00m \u001B[38;5;167;01mTypeError\u001B[39;00m(\u001B[33mf\u001B[39m\u001B[33m\"\u001B[39m\u001B[38;5;132;01m{\u001B[39;00mwhat1\u001B[38;5;132;01m}\u001B[39;00m\u001B[33m and \u001B[39m\u001B[38;5;132;01m{\u001B[39;00mwhat2\u001B[38;5;132;01m}\u001B[39;00m\u001B[33m must have identical types, got\u001B[39m\u001B[38;5;130;01m\\n\u001B[39;00m\u001B[38;5;132;01m{\u001B[39;00mdiff\u001B[38;5;132;01m}\u001B[39;00m\u001B[33m.\u001B[39m\u001B[33m\"\u001B[39m)\n",
      "\u001B[31mTypeError\u001B[39m: true_fun output and false_fun output must have identical types, got\nDIFFERENT ShapedArray(float32[]) vs. ShapedArray(float32[1])."
     ]
    }
   ],
   "execution_count": 2
  }
 ],
 "metadata": {},
 "nbformat": 4,
 "nbformat_minor": 5
}
